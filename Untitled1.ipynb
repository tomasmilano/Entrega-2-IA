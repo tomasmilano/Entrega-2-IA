{
 "cells": [
  {
   "cell_type": "code",
   "execution_count": 13,
   "id": "25f3d5e3-5abe-4e5e-9b0f-01dc4793eeb8",
   "metadata": {},
   "outputs": [],
   "source": [
    "import openai"
   ]
  },
  {
   "cell_type": "code",
   "execution_count": 16,
   "id": "f5c78747-72b2-4886-a4fb-0480c9e84c8b",
   "metadata": {},
   "outputs": [],
   "source": [
    "# Contexto y prompt\n",
    "\n",
    "context = \"\"\"\n",
    "Problema: Dificultad en mantener un rendimiento académico constante y eficiente.\n",
    "Propósito: Mejorar el rendimiento académico de los estudiantes mediante soluciones personalizadas utilizando inteligencia artificial (IA).\n",
    "\n",
    "Dificultades Comunes:\n",
    "- Falta de organización.\n",
    "- Distracciones constantes.\n",
    "- Incapacidad de manejar el estrés.\n",
    "\n",
    "Solución Propuesta: Utilización de IA para ofrecer asistentes virtuales que proporcionen recordatorios personalizados, monitoreen el progreso, ofrezcan retroalimentación instantánea y adapten las recomendaciones según las necesidades individuales.\n",
    "\n",
    "\"\"\"\n",
    "\n",
    "prompt = \"Crea un recordatorio diario para el estudiante sobre Anatomía basado en su horario y prioridades.\"\n"
   ]
  },
  {
   "cell_type": "code",
   "execution_count": null,
   "id": "bb27b89e-8a9a-4f53-885b-3a1af983895f",
   "metadata": {},
   "outputs": [],
   "source": [
    "conversation = [\n",
    "{\"role\": \"system\", \"content\": context},\n",
    "{\"role\": \"user\", \"content\": prompt}\n",
    "]\n",
    "response = openai.ChatCompletion.create( model='gpt-3.5-turbo',\n",
    "messages=conversation, max_tokens=500,\n",
    "temperature=0.7\n",
    ")\n",
    "# Corrected way to access the response content"
   ]
  },
  {
   "cell_type": "code",
   "execution_count": null,
   "id": "4440a41a-5f68-4118-be3d-df64ba4dea95",
   "metadata": {},
   "outputs": [],
   "source": [
    "message = response['choices'][0]['message']['content'] \n",
    "print(\"Assistant: {}\".format(message))"
   ]
  }
 ],
 "metadata": {
  "kernelspec": {
   "display_name": "Python 3 (ipykernel)",
   "language": "python",
   "name": "python3"
  },
  "language_info": {
   "codemirror_mode": {
    "name": "ipython",
    "version": 3
   },
   "file_extension": ".py",
   "mimetype": "text/x-python",
   "name": "python",
   "nbconvert_exporter": "python",
   "pygments_lexer": "ipython3",
   "version": "3.12.4"
  }
 },
 "nbformat": 4,
 "nbformat_minor": 5
}
